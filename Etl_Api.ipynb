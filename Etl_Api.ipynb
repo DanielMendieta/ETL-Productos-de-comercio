# PASO 1 - Conexion y extraccion de una api.
import requests
import psycopg2
import pandas as pd
from psycopg2.extras import execute_values

url = "https://random-data-api.com/api/commerce/random_commerce?size=100"

response = requests.get(url)
data = response.json()

tabla = pd.DataFrame(data)

#COMIENZO CON LA LIMPIEZA:
#DESCARTO COLUMNAS POCO RELEVANTE.
del tabla ["id"]
del tabla ["uid"]
del tabla ["price_string"]
del tabla ["promo_code"]

#ME QUEDO SOLO CON LOS PRIMEROS 50 RESULTADOS
tabla.drop(range(50,100), axis = 0, inplace=True)

#BORRAMOS POSIBLES DUPLICADOS
tabla.drop_duplicates()

#ORDENAMOS LOS PRODUCTOS DE VALOR MAS ELEVADO AL MAS ECONOMICO.
tabla.sort_values(by=['price'], inplace=True, ascending=False)

#CAMBIO EL NOMBRE DE LAS COLUMNAS.
tabla.columns= ['Color', 'Sector', 'Material','Nombre', 'Precio']
tabla
